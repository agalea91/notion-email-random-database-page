{
 "cells": [
  {
   "cell_type": "code",
   "execution_count": 10,
   "id": "69d75bd8",
   "metadata": {},
   "outputs": [],
   "source": [
    "import os\n",
    "for k, v in dict(\n",
    "    EMAIL_TO='agalea91@gmail.com',\n",
    "    EMAIL_FROM='Toc <toc.adi.now@gmail.com>',\n",
    "    NOTION_DATABASE_ID='',\n",
    "    NOTION_SECRET_TOKEN='',\n",
    "    SENDGRID_SECRET_TOKEN=''\n",
    ").items():\n",
    "    os.environ[k] = v"
   ]
  },
  {
   "cell_type": "code",
   "execution_count": 48,
   "id": "51d5409f",
   "metadata": {},
   "outputs": [],
   "source": [
    "import requests\n",
    "import os\n",
    "\n",
    "HEADERS = {\n",
    "    \"Authorization\": f\"Bearer {os.getenv('NOTION_SECRET_TOKEN')}\",\n",
    "    \"Notion-version\": \"2021-05-13\",\n",
    "}\n",
    "\n",
    "\n",
    "def retrieve_database(database_id, query=None, start_cursor=None) -> dict:\n",
    "    url = f\"https://api.notion.com/v1/databases/{database_id}/query\"\n",
    "    data = query or {}\n",
    "    if start_cursor:\n",
    "        data[\"start_cursor\"] = start_cursor\n",
    "    print(f\"POST {url}\")\n",
    "    response = requests.post(url=url, headers=HEADERS, json=data)\n",
    "    response.raise_for_status()\n",
    "    database = response.json()\n",
    "    return database\n",
    "\n",
    "\n",
    "\n",
    "\n",
    "def retrieve_page_content(page_id) -> dict:\n",
    "    url = f\"https://api.notion.com/v1/blocks/{page_id}/children\"\n",
    "    print(f\"GET {url}\")\n",
    "    response = requests.get(url=url, headers=HEADERS)\n",
    "    response.raise_for_status()\n",
    "    page = response.json()\n",
    "    return page"
   ]
  },
  {
   "cell_type": "code",
   "execution_count": 49,
   "id": "0b04af46",
   "metadata": {},
   "outputs": [],
   "source": [
    "import re\n",
    "import random\n",
    "import json\n",
    "\n",
    "\n",
    "def get_random_page(database):\n",
    "    if database[\"has_more\"]:\n",
    "        raise NotImplementedError(\"Database has more pages. Must implement pagination.\")\n",
    "\n",
    "    idx = random.choice(list(range(len(database[\"results\"]))))\n",
    "    page = database[\"results\"][idx]\n",
    "    return page\n",
    "\n",
    "\n",
    "def get_page_id(database_page):\n",
    "    return re.findall(r\"/([^/]+)$\", database_page[\"url\"])[0]\n",
    "\n",
    "\n",
    "def get_page_topic(database_page):\n",
    "    return database_page[\"properties\"][\"Tags\"][\"multi_select\"][0][\"name\"]\n",
    "\n",
    "\n",
    "def parse_page_quote_content(block_page):\n",
    "    try:\n",
    "        quote = block_page[\"results\"][0][\"paragraph\"][\"text\"][0][\"text\"][\"content\"]\n",
    "        attrib = block_page[\"results\"][1][\"paragraph\"][\"text\"][0][\"text\"][\"content\"]\n",
    "    except Exception as e:\n",
    "        print(f\"Error parsing quote from page {json.dumps(block_page, indent=2)}\")\n",
    "        raise\n",
    "    return quote, attrib"
   ]
  },
  {
   "cell_type": "code",
   "execution_count": 23,
   "id": "45fc22df",
   "metadata": {},
   "outputs": [
    {
     "name": "stdout",
     "output_type": "stream",
     "text": [
      "POST https://api.notion.com/v1/databases/bb7a2ecc460f43dbaf751cf1ee6d27ba/query\n"
     ]
    }
   ],
   "source": [
    "\n",
    "database1 = retrieve_database(\n",
    "    database_id=os.getenv(\"NOTION_DATABASE_ID\"),\n",
    "    start_cursor=None\n",
    ")"
   ]
  },
  {
   "cell_type": "code",
   "execution_count": 24,
   "id": "6a3f0005",
   "metadata": {},
   "outputs": [
    {
     "data": {
      "text/plain": [
       "True"
      ]
     },
     "execution_count": 24,
     "metadata": {},
     "output_type": "execute_result"
    }
   ],
   "source": [
    "database1[\"has_more\"]"
   ]
  },
  {
   "cell_type": "code",
   "execution_count": 43,
   "id": "1400ff0f",
   "metadata": {},
   "outputs": [
    {
     "data": {
      "text/plain": [
       "'59a3f846-0db7-48f3-89f9-d5ffd110922f'"
      ]
     },
     "execution_count": 43,
     "metadata": {},
     "output_type": "execute_result"
    }
   ],
   "source": [
    "database1[\"next_cursor\"]"
   ]
  },
  {
   "cell_type": "code",
   "execution_count": 50,
   "id": "86fc9940",
   "metadata": {},
   "outputs": [
    {
     "name": "stdout",
     "output_type": "stream",
     "text": [
      "POST https://api.notion.com/v1/databases/bb7a2ecc460f43dbaf751cf1ee6d27ba/query\n"
     ]
    }
   ],
   "source": [
    "database2 = retrieve_database(\n",
    "    database_id=os.getenv(\"NOTION_DATABASE_ID\"),\n",
    "    start_cursor=database1[\"next_cursor\"]\n",
    ")"
   ]
  },
  {
   "cell_type": "code",
   "execution_count": 51,
   "id": "cc704f84",
   "metadata": {},
   "outputs": [
    {
     "data": {
      "text/plain": [
       "False"
      ]
     },
     "execution_count": 51,
     "metadata": {},
     "output_type": "execute_result"
    }
   ],
   "source": [
    "database2[\"has_more\"]"
   ]
  },
  {
   "cell_type": "code",
   "execution_count": 52,
   "id": "0f394863",
   "metadata": {},
   "outputs": [
    {
     "data": {
      "text/plain": [
       "100"
      ]
     },
     "execution_count": 52,
     "metadata": {},
     "output_type": "execute_result"
    }
   ],
   "source": [
    "len(database1[\"results\"])"
   ]
  },
  {
   "cell_type": "code",
   "execution_count": 53,
   "id": "ffbe5487",
   "metadata": {},
   "outputs": [
    {
     "data": {
      "text/plain": [
       "6"
      ]
     },
     "execution_count": 53,
     "metadata": {},
     "output_type": "execute_result"
    }
   ],
   "source": [
    "\n",
    "len(database2[\"results\"])"
   ]
  },
  {
   "cell_type": "code",
   "execution_count": 54,
   "id": "34914d43",
   "metadata": {},
   "outputs": [
    {
     "data": {
      "text/plain": [
       "'https://www.notion.so/f04302363a184525b04e142cc3c1f1aa'"
      ]
     },
     "execution_count": 54,
     "metadata": {},
     "output_type": "execute_result"
    }
   ],
   "source": [
    "database1[\"results\"][0][\"url\"]"
   ]
  },
  {
   "cell_type": "code",
   "execution_count": 55,
   "id": "51e36e78",
   "metadata": {},
   "outputs": [
    {
     "data": {
      "text/plain": [
       "'https://www.notion.so/59a3f8460db748f389f9d5ffd110922f'"
      ]
     },
     "execution_count": 55,
     "metadata": {},
     "output_type": "execute_result"
    }
   ],
   "source": [
    "\n",
    "database2[\"results\"][0][\"url\"]"
   ]
  },
  {
   "cell_type": "code",
   "execution_count": 58,
   "id": "6cac2a41",
   "metadata": {},
   "outputs": [
    {
     "data": {
      "text/plain": [
       "dict"
      ]
     },
     "execution_count": 58,
     "metadata": {},
     "output_type": "execute_result"
    }
   ],
   "source": [
    "type(database1)"
   ]
  },
  {
   "cell_type": "code",
   "execution_count": null,
   "id": "bdbfe235",
   "metadata": {},
   "outputs": [],
   "source": []
  }
 ],
 "metadata": {
  "kernelspec": {
   "display_name": "Python 3 (ipykernel)",
   "language": "python",
   "name": "python3"
  },
  "language_info": {
   "codemirror_mode": {
    "name": "ipython",
    "version": 3
   },
   "file_extension": ".py",
   "mimetype": "text/x-python",
   "name": "python",
   "nbconvert_exporter": "python",
   "pygments_lexer": "ipython3",
   "version": "3.9.16"
  }
 },
 "nbformat": 4,
 "nbformat_minor": 5
}
